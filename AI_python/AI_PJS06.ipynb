{
 "cells": [
  {
   "cell_type": "code",
   "execution_count": 4,
   "id": "e372d482",
   "metadata": {},
   "outputs": [
    {
     "name": "stdout",
     "output_type": "stream",
     "text": [
      "contains 268 words.\n",
      "contains 139 different words.\n",
      "\n",
      "displayMostCommonWords : \n",
      "  that: 13\n",
      "  the: 11\n",
      "  we: 10\n",
      "  to: 8\n",
      "  here: 8\n",
      "  a: 7\n",
      "  and: 6\n"
     ]
    }
   ],
   "source": [
    "def main():\n",
    "    listOfWords = formListOfWords(\"data/Gettysburg.txt\")\n",
    "    freq = createFrequencyDictionary(listOfWords)\n",
    "    displayWordCount(listOfWords, freq)\n",
    "    displayMostCommonWords(freq)\n",
    "def formListOfWords(fileName) :\n",
    "    infile = open(fileName)\n",
    "    originalLine = infile.readline().lower()\n",
    "    line = \"\"\n",
    "    \n",
    "    for ch in originalLine:\n",
    "        if ('a' <= ch <= 'z') or (ch == \" \"):\n",
    "            line += ch\n",
    "    listOfWords = line.split()\n",
    "    return listOfWords\n",
    "\n",
    "def createFrequencyDictionary(listOfWords):\n",
    "    freq = {}\n",
    "    for word in listOfWords:\n",
    "        freq[word] = 0\n",
    "    for word in listOfWords:\n",
    "        freq[word] = freq[word] + 1\n",
    "    return freq\n",
    "\n",
    "def displayWordCount(listOfWords, freq) :\n",
    "    print(\"contains\", len(listOfWords), \"words.\")\n",
    "    print(\"contains\", len(freq), \"different words.\")\n",
    "    print()\n",
    "    \n",
    "def displayMostCommonWords(freq):\n",
    "    print(\"displayMostCommonWords : \" )\n",
    "    listOfMostCommonWords = []\n",
    "    for word in freq.keys():\n",
    "        if freq[word] >= 6:\n",
    "            listOfMostCommonWords.append((word, freq[word]))\n",
    "    listOfMostCommonWords.sort(key=lambda x:x[1], reverse = True)\n",
    "    for item in listOfMostCommonWords:\n",
    "        print(\" \", item[0] + \":\", item[1])\n",
    "        \n",
    "main()"
   ]
  },
  {
   "cell_type": "code",
   "execution_count": 5,
   "id": "866c01df",
   "metadata": {},
   "outputs": [
    {
     "ename": "ValueError",
     "evalue": "invalid literal for int() with base 10: 'OOXXOOXXOO'",
     "output_type": "error",
     "traceback": [
      "\u001b[1;31m---------------------------------------------------------------------------\u001b[0m",
      "\u001b[1;31mValueError\u001b[0m                                Traceback (most recent call last)",
      "Cell \u001b[1;32mIn[5], line 1\u001b[0m\n\u001b[1;32m----> 1\u001b[0m k, n, m \u001b[39m=\u001b[39m \u001b[39mmap\u001b[39m(\u001b[39mint\u001b[39m, \u001b[39minput\u001b[39m()\u001b[39m.\u001b[39msplit())\n\u001b[0;32m      2\u001b[0m getmoney \u001b[39m=\u001b[39m k\u001b[39m*\u001b[39mn\u001b[39m-\u001b[39mm\n\u001b[0;32m      3\u001b[0m \u001b[39mif\u001b[39;00m getmoney \u001b[39m<\u001b[39m \u001b[39m1\u001b[39m:\n",
      "\u001b[1;31mValueError\u001b[0m: invalid literal for int() with base 10: 'OOXXOOXXOO'"
     ]
    }
   ],
   "source": [
    "k, n, m = map(int, input().split())\n",
    "getmoney = k*n-m\n",
    "if getmoney < 1:\n",
    "    print(0)\n",
    "else: \n",
    "    print(getmoney)"
   ]
  },
  {
   "cell_type": "code",
   "execution_count": null,
   "id": "406a5a80",
   "metadata": {},
   "outputs": [],
   "source": [
    "n = int(input())\n",
    "x = 0\n",
    "tot = 0\n",
    "totl = []\n",
    "for i in range(n):\n",
    "    a, b, c = map(int, input().split())\n",
    "    l = sorted([a, b, c])\n",
    "    if l[0] == l[1] == l[2]:\n",
    "        tot = 10000 + l[0] * 1000\n",
    "        totl.append(tot)\n",
    "    elif l[0] != l[1] and l[1]!= l[2] and l[0] != l[2]:\n",
    "        tot = l[2]*100\n",
    "        totl.append(tot)\n",
    "    else:\n",
    "        if l[0] == l[1]:\n",
    "            x = l[0]\n",
    "        elif l[1] == l[2]:\n",
    "            x = l[1]\n",
    "        tot = 1000+x*100\n",
    "        totl.append(tot)\n",
    "totl2 = sorted(totl)\n",
    "print(totl2[2])\n",
    "        "
   ]
  },
  {
   "cell_type": "code",
   "execution_count": null,
   "id": "3020aa1c",
   "metadata": {},
   "outputs": [],
   "source": [
    "import pickle\n",
    "infile = open(\"data/UNDict.dat\", \"rb\")\n",
    "contries = pickle.load(infile)\n",
    "infile.close()"
   ]
  },
  {
   "cell_type": "code",
   "execution_count": null,
   "id": "d0b3c4fa",
   "metadata": {},
   "outputs": [
    {
     "name": "stdout",
     "output_type": "stream",
     "text": [
      "{'inches': 0.083333, 'furlongs': 660.0, 'yards': 3.0, 'fathoms': 6.0, 'feet': 1.0, 'kilometers': 3281.5, 'meters': 3.2815, 'miles': 5280.0, 'rods': 16.5}\n",
      "Enter the unit to convert from: yards\n",
      "Enter the unit to convert to: miles\n",
      "Enter length in yards: 555\n",
      "0.315341\n"
     ]
    }
   ],
   "source": [
    "infile = open(\"data/Units.txt\")\n",
    "\n",
    "d = {}\n",
    "\n",
    "for line in infile:  \n",
    "    unit, factor = line.strip().split(',')\n",
    "    d[unit] = float(factor)\n",
    "    \n",
    "print(d)\n",
    "\n",
    "fromu = input(\"Enter the unit to convert from: \")\n",
    "tou = input(\"Enter the unit to convert to: \")\n",
    "conv = float(input(f\"Enter length in {fromu}: \"))\n",
    "result = float(d[fromu]/d[tou]*conv)\n",
    "print(f'{result:3f}')"
   ]
  },
  {
   "cell_type": "code",
   "execution_count": null,
   "id": "41929916",
   "metadata": {},
   "outputs": [],
   "source": [
    "s = input()\n",
    "result = 0\n",
    "x = 0\n",
    "for i in range(len(s)):\n",
    "    \n",
    "    x +=1   \n",
    "  \n",
    "    if s[i] == 'O':\n",
    "    \n",
    "        result += x\n",
    "    else:\n",
    "        x = 0\n",
    "\n",
    "print(s[i])\n",
    "print(result)"
   ]
  }
 ],
 "metadata": {
  "kernelspec": {
   "display_name": "Python 3 (ipykernel)",
   "language": "python",
   "name": "python3"
  },
  "language_info": {
   "codemirror_mode": {
    "name": "ipython",
    "version": 3
   },
   "file_extension": ".py",
   "mimetype": "text/x-python",
   "name": "python",
   "nbconvert_exporter": "python",
   "pygments_lexer": "ipython3",
   "version": "3.10.9"
  }
 },
 "nbformat": 4,
 "nbformat_minor": 5
}
