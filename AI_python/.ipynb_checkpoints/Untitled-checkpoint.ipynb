{
 "cells": [
  {
   "cell_type": "code",
   "execution_count": null,
   "id": "e372d482",
   "metadata": {},
   "outputs": [],
   "source": [
    "def main():\n",
    "    listOfWords = formListOfWords(\"data/Gettysburg.txt\")\n",
    "    freq = createFrequencyDictionary(listOfWords)\n",
    "    displayWordCount(listOfWords, freq)\n",
    "    displayMostCommonWords(freq)\n",
    "def formListOfWords(fileName) :\n",
    "    infile = open(fileName)\n",
    "    originalLine = infile.readline().lower()\n",
    "    line = \"\"\n",
    "    \n",
    "    for ch in originalLine:\n",
    "        if ('a' <= ch <= 'z') or (ch == \" \"):\n",
    "            line += ch\n",
    "    listOfWords = line.split()\n",
    "    return listOfWords\n",
    "\n",
    "def createFrequencyDictionary(listOfWords):\n",
    "    freq = {}\n",
    "    for word in listOfWords:\n",
    "        freq[word] = 0\n",
    "    for word in listOfWords:\n",
    "        freq[word] = freq[word] + 1\n",
    "    return freq\n",
    "\n",
    "def displayWordCount(listOfWords, freq) :\n",
    "    print(\"contains\", len(listOfWords), \"words.\")\n",
    "    print(\"contains\", len(freq), \"different words.\")\n",
    "    print()\n",
    "    \n",
    "def displayMostCommonWords(freq):\n",
    "    print(\"displayMostCommonWords : \" )\n",
    "    listOfMostCommonWords = []\n",
    "    for word in freq.keys():\n",
    "        if freq[word] >= 6:\n",
    "            listOfMostCommonWords.append((word, freq[word]))\n",
    "    listOfMostCommonWords.sort(key=lambda x:x[1], reverse = True)\n",
    "    for item in listOfMostCommonWords:\n",
    "        print(\" \", item[0] + \":\", item[1])\n",
    "        \n",
    "main()"
   ]
  },
  {
   "cell_type": "code",
   "execution_count": 13,
   "id": "866c01df",
   "metadata": {},
   "outputs": [
    {
     "name": "stdout",
     "output_type": "stream",
     "text": [
      "20 10 320\n",
      "0\n"
     ]
    }
   ],
   "source": [
    "k, n, m = map(int, input().split())\n",
    "getmoney = k*n-m\n",
    "if getmoney < 1:\n",
    "    print(0)\n",
    "else: \n",
    "    print(getmoney)"
   ]
  },
  {
   "cell_type": "code",
   "execution_count": null,
   "id": "406a5a80",
   "metadata": {},
   "outputs": [],
   "source": [
    "n = int(input())\n",
    "x = 0\n",
    "tot = 0\n",
    "totl = []\n",
    "for i in range(n):\n",
    "    a, b, c = map(int, input().split())\n",
    "    l = sorted([a, b, c])\n",
    "    if l[0] == l[1] == l[2]:\n",
    "        tot = 10000 + l[0] * 1000\n",
    "        totl.append(tot)\n",
    "    elif l[0] != l[1] and l[1]!= l[2] and l[0] != l[2]:\n",
    "        tot = l[2]*100\n",
    "        totl.append(tot)\n",
    "    else:\n",
    "        if l[0] == l[1]:\n",
    "            x = l[0]\n",
    "        elif l[1] == l[2]:\n",
    "            x = l[1]\n",
    "        tot = 1000+x*100\n",
    "        totl.append(tot)\n",
    "totl2 = sorted(totl)\n",
    "print(totl2[2])\n",
    "        "
   ]
  },
  {
   "cell_type": "code",
   "execution_count": 20,
   "id": "3020aa1c",
   "metadata": {},
   "outputs": [],
   "source": [
    "import pickle\n",
    "infile = open(\"data/UNDict.dat\", \"rb\")\n",
    "contries = pickle.load(infile)\n",
    "infile.close()"
   ]
  },
  {
   "cell_type": "code",
   "execution_count": null,
   "id": "d0b3c4fa",
   "metadata": {},
   "outputs": [],
   "source": [
    "infile = dict(\"data/Units.txt\")\n",
    "infile"
   ]
  }
 ],
 "metadata": {
  "kernelspec": {
   "display_name": "Python 3 (ipykernel)",
   "language": "python",
   "name": "python3"
  },
  "language_info": {
   "codemirror_mode": {
    "name": "ipython",
    "version": 3
   },
   "file_extension": ".py",
   "mimetype": "text/x-python",
   "name": "python",
   "nbconvert_exporter": "python",
   "pygments_lexer": "ipython3",
   "version": "3.10.9"
  }
 },
 "nbformat": 4,
 "nbformat_minor": 5
}
