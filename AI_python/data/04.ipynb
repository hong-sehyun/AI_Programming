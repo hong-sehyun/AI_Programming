{
 "cells": [
  {
   "cell_type": "code",
   "execution_count": 1,
   "metadata": {},
   "outputs": [
    {
     "ename": "FileNotFoundError",
     "evalue": "[Errno 2] No such file or directory: 'FristPresidents.txt'",
     "output_type": "error",
     "traceback": [
      "\u001b[1;31m---------------------------------------------------------------------------\u001b[0m",
      "\u001b[1;31mFileNotFoundError\u001b[0m                         Traceback (most recent call last)",
      "Cell \u001b[1;32mIn[1], line 30\u001b[0m\n\u001b[0;32m     27\u001b[0m         line \u001b[39m=\u001b[39m infile\u001b[39m.\u001b[39mreadline()\n\u001b[0;32m     28\u001b[0m         infile\u001b[39m.\u001b[39mclose()\n\u001b[1;32m---> 30\u001b[0m main()\n",
      "Cell \u001b[1;32mIn[1], line 3\u001b[0m, in \u001b[0;36mmain\u001b[1;34m()\u001b[0m\n\u001b[0;32m      1\u001b[0m \u001b[39mdef\u001b[39;00m \u001b[39mmain\u001b[39m():\n\u001b[0;32m      2\u001b[0m     file \u001b[39m=\u001b[39m \u001b[39m\"\u001b[39m\u001b[39mFristPresidents.txt\u001b[39m\u001b[39m\"\u001b[39m\n\u001b[1;32m----> 3\u001b[0m     displayWithForLoop(file)\n\u001b[0;32m      4\u001b[0m     \u001b[39mprint\u001b[39m()\n\u001b[0;32m      5\u001b[0m     displayWithListComprehension(file)\n",
      "Cell \u001b[1;32mIn[1], line 11\u001b[0m, in \u001b[0;36mdisplayWithForLoop\u001b[1;34m(file)\u001b[0m\n\u001b[0;32m     10\u001b[0m \u001b[39mdef\u001b[39;00m \u001b[39mdisplayWithForLoop\u001b[39m(file):\n\u001b[1;32m---> 11\u001b[0m     infile \u001b[39m=\u001b[39m \u001b[39mopen\u001b[39;49m(file, \u001b[39m'\u001b[39;49m\u001b[39mr\u001b[39;49m\u001b[39m'\u001b[39;49m)\n\u001b[0;32m     12\u001b[0m     \u001b[39mfor\u001b[39;00m line \u001b[39min\u001b[39;00m infile:\n\u001b[0;32m     13\u001b[0m         \u001b[39mprint\u001b[39m(line\u001b[39m.\u001b[39mrstrip())\n",
      "File \u001b[1;32mc:\\ProgramData\\anaconda3\\lib\\site-packages\\IPython\\core\\interactiveshell.py:282\u001b[0m, in \u001b[0;36m_modified_open\u001b[1;34m(file, *args, **kwargs)\u001b[0m\n\u001b[0;32m    275\u001b[0m \u001b[39mif\u001b[39;00m file \u001b[39min\u001b[39;00m {\u001b[39m0\u001b[39m, \u001b[39m1\u001b[39m, \u001b[39m2\u001b[39m}:\n\u001b[0;32m    276\u001b[0m     \u001b[39mraise\u001b[39;00m \u001b[39mValueError\u001b[39;00m(\n\u001b[0;32m    277\u001b[0m         \u001b[39mf\u001b[39m\u001b[39m\"\u001b[39m\u001b[39mIPython won\u001b[39m\u001b[39m'\u001b[39m\u001b[39mt let you open fd=\u001b[39m\u001b[39m{\u001b[39;00mfile\u001b[39m}\u001b[39;00m\u001b[39m by default \u001b[39m\u001b[39m\"\u001b[39m\n\u001b[0;32m    278\u001b[0m         \u001b[39m\"\u001b[39m\u001b[39mas it is likely to crash IPython. If you know what you are doing, \u001b[39m\u001b[39m\"\u001b[39m\n\u001b[0;32m    279\u001b[0m         \u001b[39m\"\u001b[39m\u001b[39myou can use builtins\u001b[39m\u001b[39m'\u001b[39m\u001b[39m open.\u001b[39m\u001b[39m\"\u001b[39m\n\u001b[0;32m    280\u001b[0m     )\n\u001b[1;32m--> 282\u001b[0m \u001b[39mreturn\u001b[39;00m io_open(file, \u001b[39m*\u001b[39margs, \u001b[39m*\u001b[39m\u001b[39m*\u001b[39mkwargs)\n",
      "\u001b[1;31mFileNotFoundError\u001b[0m: [Errno 2] No such file or directory: 'FristPresidents.txt'"
     ]
    }
   ],
   "source": [
    "def main():\n",
    "    file = \"FirstPresidents.txt\"\n",
    "    displayWithForLoop(file)\n",
    "    print()\n",
    "    displayWithListComprehension(file)\n",
    "    print()\n",
    "    displayWithReadline(file)\n",
    "\n",
    "\n",
    "def displayWithForLoop(file):\n",
    "    infile = open(file, 'r')\n",
    "    for line in infile:\n",
    "        print(line.rstrip())\n",
    "    infile.close()\n",
    "\n",
    "def displayWithListComprehension(file):\n",
    "    infile = open(file, 'r')\n",
    "    listPres = [line.rstrip() for line in infile]\n",
    "    infile.close()\n",
    "    print(listPres)\n",
    "\n",
    "def displayWithReadline(file):\n",
    "    infile = open(file, 'r')\n",
    "    line = infile.readline()\n",
    "    while line != \"\":\n",
    "        print(line.rstrip())\n",
    "        line = infile.readline()\n",
    "        infile.close()\n",
    "\n",
    "main()"
   ]
  },
  {
   "cell_type": "code",
   "execution_count": 3,
   "metadata": {},
   "outputs": [
    {
     "ename": "ValueError",
     "evalue": "I/O operation on closed file.",
     "output_type": "error",
     "traceback": [
      "\u001b[1;31m---------------------------------------------------------------------------\u001b[0m",
      "\u001b[1;31mValueError\u001b[0m                                Traceback (most recent call last)",
      "Cell \u001b[1;32mIn[3], line 21\u001b[0m\n\u001b[0;32m     19\u001b[0m         infile\u001b[39m.\u001b[39mclose()\n\u001b[0;32m     20\u001b[0m         outfile\u001b[39m.\u001b[39mclose()\n\u001b[1;32m---> 21\u001b[0m main()\n",
      "Cell \u001b[1;32mIn[3], line 3\u001b[0m, in \u001b[0;36mmain\u001b[1;34m()\u001b[0m\n\u001b[0;32m      1\u001b[0m \u001b[39mdef\u001b[39;00m \u001b[39mmain\u001b[39m():\n\u001b[0;32m      2\u001b[0m     vicePresList \u001b[39m=\u001b[39m createListFromFile(\u001b[39m\"\u001b[39m\u001b[39mVPres.txt\u001b[39m\u001b[39m\"\u001b[39m)\n\u001b[1;32m----> 3\u001b[0m     createNewFile(vicePresList, \u001b[39m\"\u001b[39;49m\u001b[39mUSPres.txt\u001b[39;49m\u001b[39m\"\u001b[39;49m, \u001b[39m\"\u001b[39;49m\u001b[39mBoth.txt\u001b[39;49m\u001b[39m\"\u001b[39;49m)\n",
      "Cell \u001b[1;32mIn[3], line 16\u001b[0m, in \u001b[0;36mcreateNewFile\u001b[1;34m(listName, oldFileName, newFileName)\u001b[0m\n\u001b[0;32m     14\u001b[0m infile \u001b[39m=\u001b[39m \u001b[39mopen\u001b[39m(oldFileName, \u001b[39m'\u001b[39m\u001b[39mr\u001b[39m\u001b[39m'\u001b[39m)\n\u001b[0;32m     15\u001b[0m outfile \u001b[39m=\u001b[39m \u001b[39mopen\u001b[39m(newFileName, \u001b[39m'\u001b[39m\u001b[39mw\u001b[39m\u001b[39m'\u001b[39m)\n\u001b[1;32m---> 16\u001b[0m \u001b[39mfor\u001b[39;00m person \u001b[39min\u001b[39;00m infile:\n\u001b[0;32m     17\u001b[0m     \u001b[39mif\u001b[39;00m person\u001b[39m.\u001b[39mrstrip() \u001b[39min\u001b[39;00m listName:\n\u001b[0;32m     18\u001b[0m         outfile\u001b[39m.\u001b[39mwrite(person)\n",
      "\u001b[1;31mValueError\u001b[0m: I/O operation on closed file."
     ]
    }
   ],
   "source": [
    "def main():\n",
    "    vicePresList = createListFromFile(\"VPres.txt\")\n",
    "    createNewFile(vicePresList, \"USPres.txt\", \"Both.txt\")\n",
    "\n",
    "def createListFromFile(fileName):\n",
    "    infile = open(fileName, 'r')\n",
    "    desiredList = [line.rstrip() for line in infile]\n",
    "\n",
    "    infile.close()\n",
    "\n",
    "    return desiredList\n",
    "\n",
    "def createNewFile(listName, oldFileName, newFileName):\n",
    "    infile = open(oldFileName, 'r')\n",
    "    outfile = open(newFileName, 'w')\n",
    "    for person in infile:\n",
    "        if person.rstrip() in listName:\n",
    "            outfile.write(person)\n",
    "        infile.close()\n",
    "        outfile.close()\n",
    "main()"
   ]
  }
 ],
 "metadata": {
  "kernelspec": {
   "display_name": "base",
   "language": "python",
   "name": "python3"
  },
  "language_info": {
   "codemirror_mode": {
    "name": "ipython",
    "version": 3
   },
   "file_extension": ".py",
   "mimetype": "text/x-python",
   "name": "python",
   "nbconvert_exporter": "python",
   "pygments_lexer": "ipython3",
   "version": "3.10.9"
  },
  "orig_nbformat": 4
 },
 "nbformat": 4,
 "nbformat_minor": 2
}
